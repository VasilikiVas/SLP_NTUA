{
 "cells": [
  {
   "cell_type": "markdown",
   "metadata": {},
   "source": [
    "<img src=\"https://www.rephil.eu/images/emp-in.jpg\" width=\"180\" align=\"center\">\n",
    "<div align=\"center\">\n",
    "<i><br>\n",
    "<font size=\"5\"><b>Εθνικό Μετσόβιο Πολυτεχνείο</b></font><br>\n",
    "<font size=\"4\">Σχολή Ηλεκτρολόγων Μηχανικών και Μηχανικών Υπολογιστών </font><br>\n",
    "<font size=\"3\">Τομέας Σημάτων, Ελέγχου και Ρομποτικής</font><br>\n",
    "<font size=\"3\">Εργαστήριο Όρασης Υπολογιστών, Επικοινωνίας Λόγου και Επεξεργασίας Σημάτων</font><br><br>\n",
    "<font size=\"3\"><b>Επεξεργασία Φωνής και Φυσικής Γλώσσας</b></font>\n",
    "</i><br><br>"
   ]
  },
  {
   "cell_type": "markdown",
   "metadata": {},
   "source": [
    "<br><br>\n",
    "<div align = \"center\">\n",
    "<i>\n",
    "<font size=\"4\"><b>1η Προπαρασκευαστική Άσκηση: Ορθογράφος</b></font><br>\n",
    "<font size=\"4\">Ακ. Έτος: 2019 - 2020</font><br>\n",
    "<font size=\"3\">Εξάμηνο: 7ο</font><br>\n",
    "<br><br><br>\n",
    "<font size=\"3\"><b>Βασιλείου Βασιλική - 03115033</font><br>\n",
    "<font size=\"3\"><b>Ψαρουδάκης Ανδρέας - 03116001</font>\n",
    "</i><br><br><br>"
   ]
  },
  {
   "cell_type": "markdown",
   "metadata": {},
   "source": [
    "<font size=\"4\"><b>Βήμα 1: Κατασκευή corpus</b></font>"
   ]
  },
  {
   "cell_type": "markdown",
   "metadata": {},
   "source": [
    "Σε αυτό το βήμα θα δημιουργήσουμε ένα μετρίου μεγέθους corpus από διαθέσιμη πηγή στο διαδίκτυο. Συγκεκριμένα, θα κατεβάσουμε το βιβλίο **The Adventures of Sherlock Holmes by Arthur Conan Doyle** από το project Gutenberg, το οποίο αποτελεί μια πηγή για βιβλία που βρίσκονται στο public domain και μία καλή πηγή για γρήγορη συλλογή δεδομένων για κατασκευή γλωσσικών μοντέλων."
   ]
  },
  {
   "cell_type": "markdown",
   "metadata": {},
   "source": [
    "__α)__ Κατεβάζουμε λοιπόν με χρήση της εντολής __wget__ (shell command εντολή) το βιβλίο σε plain txt μορφή και το αποθηκεύουμε με το όνομα __Sherlock.txt__ "
   ]
  },
  {
   "cell_type": "code",
   "execution_count": 1,
   "metadata": {},
   "outputs": [
    {
     "name": "stdout",
     "output_type": "stream",
     "text": [
      "--2019-12-14 20:51:38--  http://www.gutenberg.org/files/1342/1342-0.txt\n",
      "Resolving www.gutenberg.org (www.gutenberg.org)... 2610:28:3090:3000:0:bad:cafe:47, 152.19.134.47\n",
      "Connecting to www.gutenberg.org (www.gutenberg.org)|2610:28:3090:3000:0:bad:cafe:47|:80... connected.\n",
      "HTTP request sent, awaiting response... 200 OK\n",
      "Length: 799738 (781K) [text/plain]\n",
      "Saving to: ‘Sherlock.txt’\n",
      "\n",
      "Sherlock.txt        100%[===================>] 780.99K  83.4KB/s    in 13s     \n",
      "\n",
      "2019-12-14 20:51:53 (58.4 KB/s) - ‘Sherlock.txt’ saved [799738/799738]\n",
      "\n"
     ]
    }
   ],
   "source": [
    "#Create corpus from \"The Adventures of Sherlock Holmes\" book\n",
    "!wget -c http://www.gutenberg.org/files/1342/1342-0.txt -O Sherlock.txt"
   ]
  },
  {
   "cell_type": "markdown",
   "metadata": {},
   "source": [
    "__β)__ Το corpus που χρησιμοποιούμε έχει έναν ικανοποιητικό αριθμό από διακριτές λέξεις τον οποίο μπορούμε να αυξήσουμε σημαντικά αν προσθέσουμε ακόμη ένα η περισσότερα corpus. Εκτός της άυξησης του όγκου των δεδομένων κάποια άλλα πλεονεκτήμα που προκυπτουν από αυτή την πρακτική είναι:\n",
    "1. Λόγω της ποικιλίας των δεδομένων (λογοτεχνικά κείμενα, ερευνητικά κείμενα, ποιήματα κ.α.) γενικεύουμε ακόμα περισσότερο το μοντέλο μας τόσο γλωσσολογικά όσο και σημασιολογικά. \n",
    "2. Παράλληλα μειώνουμε το overfit και συνεπώς οι μέθοδοι που χρησιμοποιούμε προσφέρουν καλύτερα και ακριβέστερα στατιστικά στοιχεία για το πρόβλημα που μελετάμε.\n",
    "\n",
    "Στην παρούσα εργαστηριακή άσκηση θεωρήσαμε επαρκή την χρήση ενός μόνο corpus καθώς το επιλεχθέν διαθέτει περίπου 7.000 διαφορετικές λέξεις."
   ]
  },
  {
   "cell_type": "markdown",
   "metadata": {},
   "source": [
    "<font size=\"4\"><b>Βήμα 2: Προεπεξεργασία corpus</b></font>"
   ]
  },
  {
   "cell_type": "markdown",
   "metadata": {},
   "source": [
    "Αφού πλέον έχουμε κατεβάσει το .txt αρχείο του corpus θα πρέπει να το διαβάσουμε με την κατάλληλη προεπεξεργασία.\n",
    "\n",
    "__α)__ Ορίζουμε αρχικά μια συνάρτηση __identity_preprocess__ που διαβάζει ένα string και γυρνάει τον εαυτό του:"
   ]
  },
  {
   "cell_type": "code",
   "execution_count": 2,
   "metadata": {},
   "outputs": [],
   "source": [
    "def identity_preprocess(string_):\n",
    "    return string_"
   ]
  },
  {
   "cell_type": "markdown",
   "metadata": {},
   "source": [
    "__β)__ Έπειτα ορίζουμε μια συνάρτηση __read by line__ η οποία δέχεται σαν όρισμα το path του αρχείου μας καθώς και μια συνάρτηση preprocess και διαβάζει το αρχείο γραμμή προς γραμμή σε μία λίστα, καλώντας την preprocess σε κάθε γραμμή. Χρησιμοποιούμε την identity_preprocess του προηγούμενου ερωτήματος σαν default όρισμα για την preprocess:"
   ]
  },
  {
   "cell_type": "code",
   "execution_count": 3,
   "metadata": {},
   "outputs": [],
   "source": [
    "#Each line is an item of the list lines\n",
    "def read_by_line(path, preprocess = identity_preprocess):\n",
    "    file = open(path, \"r\")\n",
    "    lines = []\n",
    "    for line in file:\n",
    "        if not line.isspace():\n",
    "            lines.extend(preprocess(line))\n",
    "    return lines"
   ]
  },
  {
   "cell_type": "markdown",
   "metadata": {},
   "source": [
    "__γ)__ Στη συνέχεια κατασκευάζουμε μια συνάρτηση __tokenize__ η οποία δέχεται σαν όρισμα ένα string s και: \n",
    "\n",
    "α) καλεί την __strip()__ η οποία αφαιρεί όλα τα κενά στην αρχή και στο τέλος του string και την __lower()__ η οποία μετατρέπει όλα τα κεφαλαία γράμματα σε μικρά πάνω στο s, \n",
    "\n",
    "β) αφαιρεί όλα τα σημεία στίξης / σύμβολα / αριθμούς, αφήνωντας μόνο αλφαριθμητικούς χαρακτήρες, \n",
    "\n",
    "γ) αντικαθιστά τα newlines με κένα, \n",
    "\n",
    "δ) κάνει __split()__ τις λέξεις στα κενά. Το αποτέλεσμα είναι μια λίστα από lowercase λέξεις. "
   ]
  },
  {
   "cell_type": "code",
   "execution_count": 4,
   "metadata": {},
   "outputs": [],
   "source": [
    "#Our Tokenizer\n",
    "def tokenize(s):\n",
    "    new_s = s.strip()      #remove all the leading and trailing spaces from a string\n",
    "    new_s = new_s.lower()  #lowercase string\n",
    "    new_s = \"\".join((char for char in new_s if char.isalpha() or char.isspace()))   #Keeps only letters and spaces\n",
    "    new_s = new_s.replace(\"\\n\", \" \") #replace newlines with spaces\n",
    "    new_s = new_s.split()  #use split without parameter to split the words indipendently of spaces number\n",
    "    return new_s"
   ]
  },
  {
   "cell_type": "markdown",
   "metadata": {},
   "source": [
    "__δ)__ Τώρα θα πειραματιστούμε τόσο με τον δικό μας tokenizer όσο και με κάποιους __tokenizers της βιβλιοθήκης nltk__. Επιλέγουμε από την βιβλιοθήκη τους __WordPunctTokenizer__ και __WhitespaceTokenizer__ και του κάνουμε import για να τους χρησιμοποιήσουμε. Έπειτα εφαρμόζουμε ενα string και στους 3 tokenizers και συγκρίνουμε τα αποτελέσματα:"
   ]
  },
  {
   "cell_type": "code",
   "execution_count": 5,
   "metadata": {},
   "outputs": [
    {
     "name": "stdout",
     "output_type": "stream",
     "text": [
      "Our tokenizer reuslt is: ['fairy', 'tales', 'of', 'yesterday', 'grow', 'but', 'never', 'die'] \n",
      "\n",
      "WordPunct tokenizer reuslt is: ['Fai', '.', 'ry', 'tales', 'of45', 'yest', '%', 'er', '!', 'day', ',', 'grow', 'but', 'ne', '&&', 'ver', 'die'] \n",
      "\n",
      "WhiteSpace tokenizer reuslt is: ['Fai.ry', 'tales', 'of45', 'yest%er!day,', 'grow', 'but', 'ne&&ver', 'die'] \n",
      "\n"
     ]
    }
   ],
   "source": [
    "import string\n",
    "from nltk.tokenize import WordPunctTokenizer\n",
    "from nltk.tokenize import WhitespaceTokenizer\n",
    "\n",
    "s = \"   Fai.ry  tales\\nof45 yest%er!day, grow but ne&&ver die  \"\n",
    "\n",
    "\n",
    "our_token = tokenize(s)\n",
    "#Our tokenazier\n",
    "print(\"Our tokenizer reuslt is:\", our_token,\"\\n\")\n",
    "#Wordpunct\n",
    "print(\"WordPunct tokenizer reuslt is:\", WordPunctTokenizer().tokenize(s),\"\\n\")\n",
    "#Whitespace\n",
    "print(\"WhiteSpace tokenizer reuslt is:\", WhitespaceTokenizer().tokenize(s),\"\\n\")"
   ]
  },
  {
   "cell_type": "markdown",
   "metadata": {},
   "source": [
    "Όπως παρατηρούμε ο tokenizer που εμείς κατασκευάσαμε διαφέρει σε σχέση με τους δύο tokenizers που επιλέξαμε από την βιβλιοθήκη nltk. Πιο συγκεκριμένα, βλέπουμε πως τόσο ο __WordPunct tokenizer__ αλλά και ο __WhiteSpace tokenizer__ δεν αφαιρούν τα σημεία στίξης (τελεία, θαυμαστικό, κόμμα), δεν αφαιρούν τα σύμβολα ( \\ , % , & ) ενώ δεν αφαιρούν και τους αριθμούς (45). Επίσης, διαπιστώνουμε ότι ο __WordPunct tokenizer__  κάνει split στα σημεία στίξης, στα σύμβολα και στα newlines. Από την άλλη, ο __WhiteSpace tokenizer__ δεν κάνει split ούτε στα σημεία στίξης αλλά ούτε και στα σύμβολα. Κάνει split στα κενά, στα newlines. Συνεπώς, βλέπουμε πως υπάρχουν αρκετές διαφορές ανάμεσα σε κάθε έναν από τους 3 tokenizers που χρησιμοποιήσαμε. Αυτό είναι λογικό να συμβαίνει καθώς η βιβλιοθήκη nltk περιέχει μια μεγάλη ποικιλία από tokenizers οι οποίοι μπορούν να αξιοποιηθούν για να εξυπηρετήσουν διαφορετικές ανάγκες, οι οποίες εξαρτώνται από την εκάστοτε περίσταση."
   ]
  },
  {
   "cell_type": "markdown",
   "metadata": {},
   "source": [
    "<font size=\"4\"><b>Βήμα 3: Κατασκευή λεξικού και αλφαβήτου</b></font>"
   ]
  },
  {
   "cell_type": "markdown",
   "metadata": {},
   "source": [
    "Εδώ θα κατασκευάσουμε __2 λεξικά__ που θα χρησιμεύσουν στην κατασκευή των FSTs, ένα λεξικό για τα tokens (λέξεις) και ένα για τα σύμβολα (αλφάβητο)."
   ]
  },
  {
   "cell_type": "markdown",
   "metadata": {},
   "source": [
    "__α)__ Για το __λεξικό για τα tokens__ (λέξεις) ορίζουμε τη συνάρτηση __lexicon__ η οποία δέχεται ως όρισμα το path του αρχείου. \n",
    "Η __lexicon__ χρησιμποιεί την συνάρτηση read_by_line που ορίσαμε στο Βήμα 2 με δεύτερο όρισμα την tokenize. Έτσι, εφαρμόζει τη συνάρτηση tokenize σε κάθε γραμμή του αρχείου επιστρέφοντας εν τέλει μια λίστα με όλες τις λέξεις του αρχείου μας. Έπειτα αφαιρεί τα διπλότυπα, καθώς δεν θέλουμε να έχουμε πανομοιότυπες λέξεις στο λεξικό μας ενώ ταξινομεί τη λίστα μας αλφαριθμητικά. Έτσι λοιπόν, η __lexicon__ επιστρέφει μια ταξινομημένη λίστα με όλες τις λέξεις του αρχείου μας:"
   ]
  },
  {
   "cell_type": "code",
   "execution_count": 6,
   "metadata": {},
   "outputs": [],
   "source": [
    "def lexicon(path):\n",
    "    tokens = read_by_line(path,tokenize)             #fit tokenize function in each line\n",
    "    dist_tokens = sorted(list(set(tokens)))          #use set function to keep distinct tokens.\n",
    "                                                     #use list to split into a list of words.\n",
    "    return dist_tokens"
   ]
  },
  {
   "cell_type": "markdown",
   "metadata": {},
   "source": [
    "Έχοντας πλέον ορίσει την __lexicon__ την καλούμε με όρισμα το path του αρχείου ώστε να πάρουμε το λεξικό για τα tokens (__Tokens_Dictionary__):"
   ]
  },
  {
   "cell_type": "code",
   "execution_count": 7,
   "metadata": {
    "scrolled": false
   },
   "outputs": [
    {
     "name": "stdout",
     "output_type": "stream",
     "text": [
      "7018\n"
     ]
    }
   ],
   "source": [
    "Tokens_Dictionary = lexicon(\"Sherlock.txt\")\n",
    "print(len(Tokens_Dictionary))"
   ]
  },
  {
   "cell_type": "markdown",
   "metadata": {},
   "source": [
    "__β)__ Για το __λεξικό για τα σύμβολα__ (αλφάβητο) ορίζουμε τη συνάρτηση __lexicon_syb__ η οποία δέχεται ως όρισμα το path του αρχείου. \n",
    "Η **lexicon_syb** τοποθετεί τα σύμβολα (γράμματα) κάθε μιας λέξης του λεξικού μας σε μια λίστα. Έπειτα αφαιρεί τα διπλότυπα, καθώς δεν θέλουμε να έχουμε πανομοιότυπα σύμβολα στο λεξικό μας ενώ ταξινομεί τη λίστα μας αλφαριθμητικά. Έτσι λοιπόν, η **lexicon_symb** επιστρέφει μια ταξινομημένη λίστα με όλες τα σύμβολα (γράμματα) του αρχείου μας:"
   ]
  },
  {
   "cell_type": "code",
   "execution_count": 8,
   "metadata": {},
   "outputs": [],
   "source": [
    "def lexicon_symb(path):\n",
    "    dist_symb = []\n",
    "    for token in Tokens_Dictionary:                 #make a list with all letters of all tokens\n",
    "        dist_symb.extend(token)                     #use set function to get distinct leters\n",
    "    dist_symb = sorted(list(set(dist_symb)))        #put them in a sorted list\n",
    "    return dist_symb "
   ]
  },
  {
   "cell_type": "markdown",
   "metadata": {},
   "source": [
    "Έχοντας πλέον ορίσει την __lexicon_syb__ την καλούμε με όρισμα το path του αρχείου ώστε να πάρουμε το λεξικό για τα συμβολα (__Symbol_Dictionary__):"
   ]
  },
  {
   "cell_type": "code",
   "execution_count": 9,
   "metadata": {},
   "outputs": [],
   "source": [
    "Symbol_Dictionary = lexicon_symb(\"Sherlock.txt\")"
   ]
  },
  {
   "cell_type": "markdown",
   "metadata": {},
   "source": [
    "Το __αλφάβητο__ που προέκυψε από το συκγκεκριμένο κείμενο είναι το ακόλουθο:"
   ]
  },
  {
   "cell_type": "code",
   "execution_count": 10,
   "metadata": {},
   "outputs": [
    {
     "name": "stdout",
     "output_type": "stream",
     "text": [
      "['a', 'b', 'c', 'd', 'e', 'f', 'g', 'h', 'i', 'j', 'k', 'l', 'm', 'n', 'o', 'p', 'q', 'r', 's', 't', 'u', 'v', 'w', 'x', 'y', 'z', 'à', 'é', 'ê']\n"
     ]
    }
   ],
   "source": [
    "print(Symbol_Dictionary)"
   ]
  },
  {
   "cell_type": "markdown",
   "metadata": {},
   "source": [
    "<font size=\"4\"><b>Βήμα 4: Δημιουργία συμβόλων εισόδου / εξόδου</b></font>"
   ]
  },
  {
   "cell_type": "markdown",
   "metadata": {},
   "source": [
    "Για την κατασκευή των FSTs χρειάζονται 2 αρχεία που να αντιστοιχίζουν τα σύμβολα εισόδου (ή εξόδου) σε αριθμούς. Ορίζουμε τη συνάρτηση __char_syms_creator__ η οποία δέχεται ως όρισμα τα σύμβολα του αρχείου μας (αλφάβητο). Η __char_syms_creator__ δημιουργεί ένα νέο αρχείο __chars.syms__ στο οποίο αντιστοιχίζει κάθε χαρακτήρα με έναν αύξοντα ακέραιο index. Το πρώτο σύμβολο με index 0 είναι το <epsilon> (ε). Το αρχείο __chars.syms__ έχει τη μορφή: http://www.openfst.org/twiki/pub/FST/FstExamples/ascii.syms "
   ]
  },
  {
   "cell_type": "code",
   "execution_count": 11,
   "metadata": {},
   "outputs": [],
   "source": [
    "def char_syms_creator(symbols):                           #write in file like other \".syms\" files\n",
    "    f = open(\"chars.syms\", 'w')                           #first line includes <epsilon>\n",
    "    f.write(\"<epsilon>\" + 7*\" \" + \"0\" + \"\\n\")             #second line includes <space>\n",
    "    f.write(\"<space>\" + \" \" + \"1\" + \"\\n\")                 #other lines includes the other symbols of Symbol_Dictionary\n",
    "    num = 2\n",
    "    for i in range(len(symbols)):\n",
    "        f.write(symbols[i] + 7*\" \" + str(num) + \"\\n\")\n",
    "        num = num +1                                      #increase index\n",
    "    f.close()"
   ]
  },
  {
   "cell_type": "markdown",
   "metadata": {},
   "source": [
    "Έχοντας πλέον ορίσει την __chars_syms_creator__ , την καλούμε με όρισμα το αλφάβητό μας (__Symbol_Dictionary__) ώστε να δημιουργηθεί το αρχείο __chars.syms__ όπως περιγράφηκε παραπάνω:"
   ]
  },
  {
   "cell_type": "code",
   "execution_count": 12,
   "metadata": {},
   "outputs": [],
   "source": [
    "Sym_creator = char_syms_creator(Symbol_Dictionary)"
   ]
  },
  {
   "cell_type": "markdown",
   "metadata": {},
   "source": [
    "<font size=\"4\"><b>Βήμα 5: Κατασκευή μετατροπέων FST</b></font>"
   ]
  },
  {
   "cell_type": "markdown",
   "metadata": {},
   "source": [
    "Για τη δημιουργία του ορθογράφου θα χρησιμοποιήσουμε μετατροπείς βασισμένους στην __απόσταση Levenshtein__. Θα χρησιμοποιήσουμε 3 τύπους από edits: __εισαγωγές χαρακτήρων, διαγραφές χαρακτήρων__ και __αντικαταστάσεις χαρακτήρων__. Κάθε ένα από αυτά τα edits χαρακτηρίζεται από ένα κόστος. Σε αυτό το στάδιο θα θεωρήσουμε ότι όλα τα πιθανά edits έχουν το ίδιο κόστος w=1.\n",
    "\n",
    "__α)__ Κατασκευάζουμε λοιπόν ένα μετατροπέα με μία κατάσταση που υλοποιεί την απόσταση Levenshtein αντιστοιχίζοντας: \n",
    "\n",
    "1. κάθε χαρακτήρα στον εαυτό του με βάρος 0 (no edit), \n",
    "2. κάθε χαρακτήρα στο epsilon (ε) με βάρος 1 (deletion), \n",
    "3. το epsilon (ε) σε κάθε χαρακτήρα με βάρος 1 (insertion),\n",
    "4. κάθε χαρακτήρα σε κάθε άλλο χαρακτήρα με βάρος 1 (substitution) \n",
    "\n",
    "Ορίζουμε τη συνάρτηση __fst_transducer__ η οποία δέχεται ως όρισμα τα σύμβολα του αρχείου μας (αλφάβητο). Η __fst_transducer__ δημιουργεί ένα αρχείο __Transducer.txt__ το οποίο περιέχει την περιγραφή του μετατροπέα μας:"
   ]
  },
  {
   "cell_type": "code",
   "execution_count": 13,
   "metadata": {},
   "outputs": [],
   "source": [
    "def fst_transducer(symbols):\n",
    "    f = open(\"Transducer.txt\", 'w')\n",
    "    for i in range(len(symbols)):\n",
    "        #no edit\n",
    "        f.write(\"0\" + \" \" + \"0\" + \" \" + str(symbols[i]) + \" \" + str(symbols[i]) + \" \" + \"0\" + \"\\n\")\n",
    "        #deletion\n",
    "        f.write(\"0\" + \" \" + \"0\" + \" \" + str(symbols[i]) + \" \" + \"<epsilon>\" + \" \" + \"1\" + \"\\n\") \n",
    "        #insertion\n",
    "        f.write(\"0\" + \" \" + \"0\" + \" \" + \"<epsilon>\" + \" \" + str(symbols[i]) + \" \" + \"1\" + \"\\n\")\n",
    "        #substitution\n",
    "        for j in range(len(symbols)):\n",
    "            if i != j:\n",
    "                f.write(\"0\" + \" \" + \"0\" + \" \" + str(symbols[i]) + \" \" + str(symbols[j]) + \" \" + \"1\" + \"\\n\")\n",
    "    #initial state same as the final state\n",
    "    f.write(\"0\")\n",
    "    f.close()"
   ]
  },
  {
   "cell_type": "markdown",
   "metadata": {},
   "source": [
    "Έχοντας πλέον ορίσει την __fst_transducer__ , την καλούμε με όρισμα το αλφάβητό μας (__Symbol_Dictionary__) ώστε να δημιουργηθεί το αρχείο __Transducer.txt__ όπως περιγράφηκε παραπάνω:"
   ]
  },
  {
   "cell_type": "code",
   "execution_count": 14,
   "metadata": {},
   "outputs": [],
   "source": [
    "Traducer = fst_transducer(Symbol_Dictionary)"
   ]
  },
  {
   "cell_type": "markdown",
   "metadata": {},
   "source": [
    "Τώρα κάνουμε __compile__ το αρχείο __Transducer.txt__ που δημιουργήσαμε μέσω της εντολής __fstcompile__ (shell command εντολή) παράγοντας ένα binary αρχείο __Transducer.bin.fst__ . "
   ]
  },
  {
   "cell_type": "code",
   "execution_count": 15,
   "metadata": {},
   "outputs": [],
   "source": [
    "! fstcompile --isymbols=chars.syms --osymbols=chars.syms Transducer.txt Transducer.bin.fst"
   ]
  },
  {
   "cell_type": "code",
   "execution_count": 16,
   "metadata": {},
   "outputs": [],
   "source": [
    "#! fstdraw --isymbols=chars.syms --osymbols=chars.syms --fontsize=15 -portrait Transducer.bin.fst | dot -Tpdf >Transducer.pdf"
   ]
  },
  {
   "cell_type": "markdown",
   "metadata": {},
   "source": [
    "<a href=\"https://ibb.co/cxc02Zj\"><img src=\"https://i.ibb.co/BwVbTQ9/Screenshot-from-2019-11-25-14-59-11.png\" alt=\"Screenshot-from-2019-11-25-14-59-11\" border=\"0\"></a>"
   ]
  },
  {
   "cell_type": "markdown",
   "metadata": {},
   "source": [
    "Αν πάρουμε το __shortest path__ για μια λέξη εισόδου του μετατροπέα τότε αυτός θα μας επιστρέψει την __ίδια την λέξη χωρίς καμία αλλαγή (no edits)__. Αυτό προφανώς συμβαίνει γιατί κάθε χαρακτήρας αντιστοιχίζεται στον ευατό του με βάρος 0 (no edit). Οποιαδήποτε άλλη λειτουργία (insertion, deletion, substitution) εχει βάρος (κόστος) 1."
   ]
  },
  {
   "cell_type": "markdown",
   "metadata": {},
   "source": [
    "__β)__ Στην προηγούμενη υλοποίηση θεωρήσαμε ότι για οποιαδήποτε αλλαγή το βάρος είναι ίδιο και ίσο με τη μονάδα Αυτός είναι ένας αρκετά αφελής τρόπος για τον υπολογισμό των βαρών για κάθε edit. Μια πιο σωστή αντιμετώπηση είναι η χρήση βαρών με βάση την συχνότητα εμφάνισης κάθε λάθους. Συγκεκριμένα υπολογίζουμε την πιθανότητα προσθήκης, παράλειψης ή λανθασμένης αντικατάστασης κάθε χαρακτήρα. Στη συνέχεια υπολογίζουμε τα κόστη μέσα από την σχέση __cost = - log(probability)__ . Με αυτό τον τρόπο υπολογίζουμε τα τελικά βάρη για οποιαδήποτε edit."
   ]
  },
  {
   "cell_type": "markdown",
   "metadata": {},
   "source": [
    "<font size=\"4\"><b>Βήμα 6: Κατασκευή αποδοχέα λεξικού</b></font>"
   ]
  },
  {
   "cell_type": "markdown",
   "metadata": {},
   "source": [
    "__α)__ Κατασκευάζουμε τώρα έναν αποδοχέα με μία αρχική κατάσταση που αποδέχεται κάθε λέξη του λεξικού από το Βήμα 3α. Τα βάρη όλων των ακμών είναι 0. Αυτό είναι ένας αποδοχέας ο οποίος απλά αποδέχεται μια λέξη αν ανήκει στο λεξικό.\n",
    "\n",
    "Ορίζουμε τη συνάρτηση __fst_acceptor__ η οποία δέχεται ως όρισμα τις λέξεις του αρχείου μας (tokens). Η __fst_acceptor__ δημιουργεί ένα αρχείο __Acceptor.txt__ το οποίο περιέχει την περιγραφή του αποδοχέα μας. Συγκεκριμένα σπάει κάθε μία λέξη του λεξικού μας σε γράμματα και δημιουργεί μια νέα κατάσταση για κάθε ένα από αυτά τα γράμματα, ξεκινώντας από την αρχική κατάσταση. Πρακτικά παράγει τόσα μονοπάτια όσες είναι και οι λέξεις του λεξικού μας, ενώ κάθε ένα από αυτά τα μονοπάτια αποτελείται από τόσες καταστάσεις όσα και τα γράμματα της εκάστοτε λέξης."
   ]
  },
  {
   "cell_type": "code",
   "execution_count": 17,
   "metadata": {},
   "outputs": [],
   "source": [
    "def fst_acceptor(tokens):\n",
    "    f = open(\"Acceptor.txt\", \"w\")\n",
    "    state = 1\n",
    "    for token in tokens:\n",
    "        letters_ar = list(token)\n",
    "        for letter in range(0, len(letters_ar)):\n",
    "            if letter == 0:\n",
    "                f.write(\"1\" + \" \" + str(state+1) + \" \" + str(letters_ar[0]) + \" \" + str(letters_ar[0]) + \" \" + \"0\" + \"\\n\")\n",
    "            else:\n",
    "                f.write(str(state) + \" \" + str(state+1) + \" \" + str(letters_ar[letter]) + \" \" + str(letters_ar[letter]) + \" \" + \"0\" + \"\\n\")\n",
    "            state = state + 1\n",
    "            if letter + 1 == len(letters_ar):\n",
    "                f.write(str(state) + \" \" + \"0\" + \" \" + \"<epsilon>\" + \" \" + \"<epsilon>\" + \" \" + \"0\" + \"\\n\")\n",
    "    f.write(\"0\")\n",
    "    f.close()"
   ]
  },
  {
   "cell_type": "markdown",
   "metadata": {},
   "source": [
    "Έχοντας πλέον ορίσει την __fst_acceptor__ , την καλούμε με όρισμα το λεξικό μας (__Tokens_Dictionary__) ώστε να δημιουργηθεί το αρχείο __Acceptor.txt__ το οποίο περιέχει την περιγραφή του αποδοχέα μας:"
   ]
  },
  {
   "cell_type": "code",
   "execution_count": 18,
   "metadata": {},
   "outputs": [],
   "source": [
    "Acceptor = fst_acceptor(Tokens_Dictionary)"
   ]
  },
  {
   "cell_type": "markdown",
   "metadata": {},
   "source": [
    "Τώρα κάνουμε __compile__ το αρχείο __Acceptor.txt__ που δημιουργήσαμε μέσω της εντολής __fstcompile__ (shell command εντολή) παράγοντας ένα binary αρχείο __Acceptor.bin.fst__ . "
   ]
  },
  {
   "cell_type": "code",
   "execution_count": 19,
   "metadata": {},
   "outputs": [],
   "source": [
    "! fstcompile --isymbols=chars.syms --osymbols=chars.syms Acceptor.txt Acceptor.bin.fst"
   ]
  },
  {
   "cell_type": "code",
   "execution_count": 20,
   "metadata": {},
   "outputs": [],
   "source": [
    "#! fstdraw --isymbols=chars.syms --osymbols=chars.syms -portrait Acceptor.bin.fst | dot -Tpdf >Acceptor.pdf"
   ]
  },
  {
   "cell_type": "markdown",
   "metadata": {},
   "source": [
    "__β)__ Καλούμε τώρα τις συναρτήσεις **fstrmepsilon()**, **fstdeterminize()** και **fstminimize()** για να βελτιστοποιήσουμε το μοντέλο:\n",
    "\n",
    "__fstrmepsilon__: Με χρήση της fstrmepsilon() μετατρέπουμε το FST σε ένα ισοδύναμο που __δεν περιέχει ε-μεταβάσεις__."
   ]
  },
  {
   "cell_type": "code",
   "execution_count": 21,
   "metadata": {},
   "outputs": [],
   "source": [
    "! fstrmepsilon Acceptor.bin.fst Acceptor.bin.fst"
   ]
  },
  {
   "cell_type": "markdown",
   "metadata": {},
   "source": [
    "__fstdeterminize__: Με χρήση της fstdeterminize() μετατρέπουμε το FST σε ένα ισοδύναμο __ντετερμινιστικό__. Έτσι, από κάθε κατάσταση έχουμε μια μοναδική μετάβαση για κάθε σύμβολο εισόδου."
   ]
  },
  {
   "cell_type": "code",
   "execution_count": 22,
   "metadata": {},
   "outputs": [],
   "source": [
    "! fstdeterminize Acceptor.bin.fst Acceptor.bin.fst"
   ]
  },
  {
   "cell_type": "markdown",
   "metadata": {},
   "source": [
    "__fstminimize__: Με χρήση της fstminimize() μετατρέπουμε το FST σε ένα ισοδύναμο που έχει τον __ελάχιστο αριθμό καταστάσεων__."
   ]
  },
  {
   "cell_type": "code",
   "execution_count": 23,
   "metadata": {},
   "outputs": [],
   "source": [
    "! fstminimize Acceptor.bin.fst Acceptor.bin.fst"
   ]
  },
  {
   "cell_type": "code",
   "execution_count": 24,
   "metadata": {},
   "outputs": [],
   "source": [
    "#! fstdraw --isymbols=chars.syms --osymbols=cahrs.syms -portrait Acceptor.bin.fst | dot -Tpdf >Minimum_Acceptor.pdf"
   ]
  },
  {
   "cell_type": "markdown",
   "metadata": {},
   "source": [
    "Στην επόμενη εικόνα φαίνεται ένας acceptor για 4 ενδεικτικά λέξεις από το κείμενο μας."
   ]
  },
  {
   "cell_type": "markdown",
   "metadata": {},
   "source": [
    "<a href=\"https://ibb.co/F6y7Z7D\"><img src=\"https://i.ibb.co/fMy060x/Screenshot-from-2019-11-25-14-56-52.png\" alt=\"Screenshot-from-2019-11-25-14-56-52\" border=\"0\"></a>"
   ]
  },
  {
   "cell_type": "markdown",
   "metadata": {},
   "source": [
    "<font size=\"1\"><b>Σημείωση: Κάνοντας κλικ πάνω στην εικόνα, ανοίγει νέα καρτέλα όπου φαίνεται η εικόνα σε μεγαλύτερες διαστάσεις.</b></font>"
   ]
  },
  {
   "cell_type": "markdown",
   "metadata": {},
   "source": [
    "### Βήμα 7: Κατασκευή ορθογράφου"
   ]
  },
  {
   "cell_type": "markdown",
   "metadata": {},
   "source": [
    "Συνθέτουμε τώρα τον Levenshtein transducer με τον αποδοχέα του ερωτήματος 6α παράγοντας τον min edit distance spell checker. Αυτός ο transducer διορθώνει τις λέξεις χωρίς να λαμβάνει υπόψιν του κάποια γλωσσική πληροφορία, με κριτήριο να κάνει τις ελάχιστες δυνατές μετατροπές στην λέξη εισόδου. Θα αναλύσουμε την συμπεριφορά του μετατροπέα στην περίπτωση που:\n",
    "\n",
    "**α)** τα edits είναι ισοβαρή"
   ]
  },
  {
   "cell_type": "markdown",
   "metadata": {},
   "source": [
    "Πρώτα ταξινομούμε τις εξόδους του transducer με χρήση της συνάρτησης __fstarcsort__ παράγοντας το αρχείο __Τransducer_sorted.fst__"
   ]
  },
  {
   "cell_type": "code",
   "execution_count": 25,
   "metadata": {},
   "outputs": [],
   "source": [
    "! fstarcsort --sort_type=olabel Transducer.bin.fst Τransducer_sorted.fst"
   ]
  },
  {
   "cell_type": "markdown",
   "metadata": {},
   "source": [
    "Στη συνέχεια ταξινομούμε τις εισόδους του acceptor με χρήση της συνάρτησης __fstarcsort__ παράγοντας το αρχείο __Αcceptor_sorted.fst__ ."
   ]
  },
  {
   "cell_type": "code",
   "execution_count": 26,
   "metadata": {},
   "outputs": [],
   "source": [
    "! fstarcsort --sort_type=ilabel Acceptor.bin.fst Αcceptor_sorted.fst"
   ]
  },
  {
   "cell_type": "markdown",
   "metadata": {},
   "source": [
    "Έπειτα, χρησιμοποιούμε τη συνάρτηση **fstcompose()** για τη σύνθεση του transducer με τον acceptor αποθηκεύοντας τον min edit distance spell checker στο αρχείο __spell_checker.fst__."
   ]
  },
  {
   "cell_type": "code",
   "execution_count": 27,
   "metadata": {},
   "outputs": [],
   "source": [
    "! fstcompose Τransducer_sorted.fst Αcceptor_sorted.fst spell_checker.fst"
   ]
  },
  {
   "cell_type": "markdown",
   "metadata": {},
   "source": [
    "Η συμπεριφορά του μετατροπέα που έχουμε υλοποιήσει διαφέρει ανάλογα με τα βάρη που θα βάλουμε σε κάθε edit. Συγκεκριμένα:\n",
    "1. Στην περίπτωση που τα edits είναι ισοβαρή ο transducer λειτουργεί με μοναδικό κριτήριο τις ελάχιστες μεταρτοπές στην λέξη. Δηλαδή αρχικά αναζητά λέξεις που διαφέρουν μόνο κατά ένα γράμμα και αν δεν βρει τέτοια οδηγείται σε αυτές με δύο και ούτω καθεξής.\n",
    "2. Στην περίπτωση τώρα που τα edits δεν είναι ισοβαρή προκύπτει ένας πιο σωστός trandsucer. Συγκεκριμένα γίνεται χρήση βαρών με βάση την συχνότητα εμφάνισης κάθε λάθους. Υπολογίζουμε την πιθανότητα προσθήκης, παράλειψης ή λανθασμένης αντικατάστασης κάθε χαρακτήρα. Στη συνέχεια υπολογίζουμε τα κόστη μέσα από την σχέση __cost = - log(probability)__ . Με αυτό τον τρόπο υπολογίζουμε τα τελικά βάρη για οποιαδήποτε edit και έτσι επιτυγχάνεται μια διόρθωση πιο συναφής με αυτό που ο χρήστης θέλει να γράψει και συνεπώς έχουμε μεγαλύτερα ποσοστά επιτυχίας."
   ]
  },
  {
   "cell_type": "markdown",
   "metadata": {},
   "source": [
    "__β)__ Θέλουμε τώρα να βρούμε τις πιθανές προβλέψεις του min edit spell checker αν η είσοδος είναι η λέξη __cit__.\n",
    "\n",
    "Ορίζουμε τη συνάρτηση __word_fst__ η οποία δέχεται σαν όρισμα μια λέξη (word). H __word_fst__ δημιουργεί ένα αρχείο __Word.txt__ στο οποίο και γράφει την περιγραφή ενός μετατροπέα FST που αποδέχεται την λέξη \"cit\". "
   ]
  },
  {
   "cell_type": "code",
   "execution_count": 28,
   "metadata": {},
   "outputs": [],
   "source": [
    "def word_fst(word):\n",
    "    f = open(\"Word.txt\", 'w')\n",
    "    state = 0\n",
    "    word_ar = list(word)\n",
    "    for letter in word_ar:\n",
    "        f.write(str(state) + \" \" + str(state + 1) + \" \" + letter + \" \"  + \"\\n\")\n",
    "        state = state + 1\n",
    "    f.write(str(state) + \"\\n\")\n",
    "    f.close()\n",
    "\n",
    "word_fst(\"cit\")"
   ]
  },
  {
   "cell_type": "code",
   "execution_count": 29,
   "metadata": {},
   "outputs": [
    {
     "name": "stdout",
     "output_type": "stream",
     "text": [
      "3\t2\tc\tw\t1\n",
      "0\n",
      "1\t0\tt\tt\n",
      "2\t1\ti\ti\n",
      "\n",
      "\n",
      "Instead of 'cit', do you mean:\n",
      "wit"
     ]
    }
   ],
   "source": [
    "! fstcompile --isymbols=chars.syms --acceptor=true Word.txt Word.bin.fst\n",
    "! fstdraw --isymbols=chars.syms --osymbols=chars.syms -portrait Word.bin.fst | dot -Tjpg >Cit.jpg\n",
    "! fstcompose Word.bin.fst spell_checker.fst corrections.fst\n",
    "! fstshortestpath corrections.fst corrections.fst\n",
    "! fstrmepsilon corrections.fst corrections.fst\n",
    "! fstprint --isymbols=chars.syms --osymbols=chars.syms corrections.fst\n",
    "! fstdraw --isymbols=chars.syms --osymbols=chars.syms -portrait corrections.fst | dot -Tjpg >Correct.jpg\n",
    "print('\\n')\n",
    "print(\"Instead of 'cit', do you mean:\")\n",
    "! ./pred.sh spell_checker.fst"
   ]
  },
  {
   "cell_type": "markdown",
   "metadata": {},
   "source": [
    "Χρησιμοποιώντας το shortest path μας δίνεται κάθε φορά μια πιθανή λέξη διόρθωσης. Στη συνέχεια αφαιρώντας αυτή τη λέξη από το λεξικό και ακολουθώντας την ίδια διαδικασία προκύπτουν άλλες πιθανές λέξεις. Εμείς εκτελέσαμε αυτή την διαδικασία άλλες επτά φορές και προέκυψαν με την σειρά οι εξής λέξεις:\n",
    "1. __sit__\n",
    "2. __fit__\n",
    "3. __bit__\n",
    "4. __it__\n",
    "5. __city__\n",
    "6. __with__\n",
    "7. __win__\n",
    "\n",
    "Παρατηρούμε ότι οι πέντε πρώτες λέξεις καθώς και η wit που προέκυψε στην πρώτη φορά εκτέλεσης διαφέρουν μόνο κατά ενα γράμμα (αντικατάσταση, προσθήκη, αφαίρεση). Ενώ οι λέξεις έξι και επτά διαφέρουν κατά δύο γράμματα. Επιβεβαιώνουμε λοιπόν με αυτό τον τρόπο την λειτουργία του transduser με ισοβαρή edits όπως περιγράψαμε στο προηγούμενο ερώτημα.\n",
    "\n",
    "Υπάρχουν ακόμα πολλές λέξεις που μοιάζουν με τη λέξη cit όπως είναι οι λέξεις cut, cat, cite όμως όπως έχουμε ήδη προαναφέρει χρησιμοποιήθηκε ένα μετρίου μεγέθους corpus οπότε είναι πιθανό πολλές λέξεις να μην βρίσκονται στο λεξιλόγιο μας και συνεπώς να μην μπορούν να προβλεφθούν."
   ]
  },
  {
   "cell_type": "markdown",
   "metadata": {},
   "source": [
    "<font size=\"4\"><b>Βήμα 8: Αξιολόγηση ορθογράφου</b></font>"
   ]
  },
  {
   "cell_type": "markdown",
   "metadata": {},
   "source": [
    "__α)__ Κατεβάζουμε τώρα με χρήση της εντολής __wget__ (shell command εντολή) το σύνολο δεδομένων για το evaluation και το αποθηκεύουμε στο αρχείο __Tester.txt__ "
   ]
  },
  {
   "cell_type": "code",
   "execution_count": 30,
   "metadata": {},
   "outputs": [
    {
     "name": "stdout",
     "output_type": "stream",
     "text": [
      "--2019-11-25 15:49:32--  https://raw.githubusercontent.com/georgepar/python-lab/master/spell_checker_test_set\n",
      "Resolving raw.githubusercontent.com (raw.githubusercontent.com)... 151.101.16.133\n",
      "Connecting to raw.githubusercontent.com (raw.githubusercontent.com)|151.101.16.133|:443... connected.\n",
      "HTTP request sent, awaiting response... 200 OK\n",
      "Length: 3780 (3.7K) [text/plain]\n",
      "Saving to: ‘Tester.txt’\n",
      "\n",
      "Tester.txt          100%[===================>]   3.69K  --.-KB/s    in 0s      \n",
      "\n",
      "2019-11-25 15:49:32 (24.5 MB/s) - ‘Tester.txt’ saved [3780/3780]\n",
      "\n"
     ]
    }
   ],
   "source": [
    "!wget -c https://raw.githubusercontent.com/georgepar/python-lab/master/spell_checker_test_set -O Tester.txt"
   ]
  },
  {
   "cell_type": "markdown",
   "metadata": {},
   "source": [
    "__β)__ Ανοίγουμε το αρχείο __Tester.txt__ και αποθηκεύουμε σε μια λίστα (words) όλες τις δυνατές προς διόρθωση λέξεις. Στη συνέχεια, __επιλέγουμε τυχαία 20__ , με σκοπό να κάνουμε σε αυτές την __βέλτιστη διόρθωση__, όπως αυτή προβλέπεται με βάση τον αλγόριθμο ελαχίστων μονοπατιών στο γράφο του μετατροπέα του Βήματος 7."
   ]
  },
  {
   "cell_type": "code",
   "execution_count": 31,
   "metadata": {},
   "outputs": [
    {
     "name": "stdout",
     "output_type": "stream",
     "text": [
      "Whe choose randomly the following 20 words: \n",
      "\n",
      "diagrammaticaally\n",
      "oppossitte\n",
      "hierachial\n",
      "possition\n",
      "oppasite\n",
      "arragment\n",
      "juise\n",
      "carrer\n",
      "latist\n",
      "pertend\n",
      "spledid\n",
      "buiscuts\n",
      "aranged\n",
      "buiscits\n",
      "splended\n",
      "dessicate\n",
      "neccesary\n",
      "scarcly\n",
      "pertend\n",
      "buiscits\n"
     ]
    }
   ],
   "source": [
    "import random\n",
    "file = open(\"Tester.txt\", \"r\")\n",
    "words = []\n",
    "random_words = []\n",
    "for line in file:\n",
    "    if not line.isspace():\n",
    "        line = line.replace(\"\\n\", \" \")\n",
    "        line = line.split(\":\")[1]\n",
    "        word = line.split()\n",
    "        words = word + words\n",
    "    \n",
    "print(\"Whe choose randomly the following 20 words: \\n\")\n",
    "for i in range(20):\n",
    "    random_words.append(random.choice(words))\n",
    "    print(random_words[i])"
   ]
  },
  {
   "cell_type": "markdown",
   "metadata": {},
   "source": [
    "Οι παραπάνω 20 λέξεις, όπως είπαμε, επιλέχθηκαν τυχαία από το σύνολο των δεδομένων που είχαμε στη διάθεση μας. Τώρα για κάθε μία από αυτές τις λέξεις καλούμε την συνάρτηση __word fst__ που ορίσαμε στο Βήμα 7β ώστε να τις διορθώσουμε πραγματοποιώντας τον ελάχιστο αριθμό αλλαγών (edits). Το αρχείο __pred.sh__ το οποίο χρησιμοποιούμε χρησιμεύει για την τύπωση των διορθωμένων λέξεων:"
   ]
  },
  {
   "cell_type": "code",
   "execution_count": 32,
   "metadata": {},
   "outputs": [
    {
     "name": "stdout",
     "output_type": "stream",
     "text": [
      "diagrammaticaally: practically\n",
      "\n",
      "oppossitte: opposite\n",
      "\n",
      "hierachial: impartial\n",
      "\n",
      "possition: position\n",
      "\n",
      "oppasite: opposite\n",
      "\n",
      "arragment: arrangement\n",
      "\n",
      "juise: use\n",
      "\n",
      "carrer: carter\n",
      "\n",
      "latist: latest\n",
      "\n",
      "pertend: pretend\n",
      "\n",
      "spledid: splendid\n",
      "\n",
      "buiscuts: discuss\n",
      "\n",
      "aranged: arranged\n",
      "\n",
      "buiscits: visits\n",
      "\n",
      "splended: splendid\n",
      "\n",
      "dessicate: delicate\n",
      "\n",
      "neccesary: necessary\n",
      "\n",
      "scarcly: scarcely\n",
      "\n",
      "pertend: pretend\n",
      "\n",
      "buiscits: visits\n",
      "\n"
     ]
    }
   ],
   "source": [
    "for word in random_words:\n",
    "    print(word + \":\" + \" \",end='')\n",
    "    word_fst(word)\n",
    "    ! ./pred.sh spell_checker.fst\n",
    "    print(\"\\n\")"
   ]
  },
  {
   "cell_type": "markdown",
   "metadata": {},
   "source": [
    "__Παρατηρήσεις__: \n",
    "\n",
    "Παρατηρούμε πως σε πολλές περιπτώσεις ο ορθογράφος μας κάνει διορθώσεις που αλλοιώνουν το νόημα των λέξεων , με αποτέλεσμα να μην δίνει τα αναμενόμενα αποτελέσματα. Για παράδειγμα, η λέξη __bycycle__ διορθώνεται σε __style__ και όχι σε __bicycle__ οπως θα περίμενε κανείς, εφόσον με αλλαγή ενός μόνο χαρακτήρα (κόστος 1) θα προέκυπτε η λέξη __bicycle__ . Αντίστοιχα, η λέξη __intial__ διορθώνεται στη λέξη __until__ , κάτι το οποίο προϋποθέτει 3 edits ενώ μια προτιμότερη διόρθωση θα ήταν η λέξη __initial__ , η οποία και θα μπορούσε να προκύψει με 1 μόνο εισαγωγή του χαρακτήρα που λείπει (1 edit). Αυτά τα \"σφάλματα\" οφείλονται στο γεγονός ότι το corpus μας είναι μικρό και δεν περιέχει αυτές τις συγκεκριμένες λέξεις που θα αποτελούσαν μια καλύτερη διόρθωση. Αν είχαμε ένα μεγαλύτερο όγκο δεδομένων στη διάθεση μας τότε τα αποτελέσματα θα ήταν σαφώς καλύτερα, αν και μπορούμε να πούμε ότι και τώρα σε κάποιες περιπτώσεις η διόρθωση λειτουργεί ικανοποιητικά."
   ]
  },
  {
   "cell_type": "markdown",
   "metadata": {},
   "source": [
    "<font size=\"4\"><b>Βήμα 9: Εξαγωγή αναπαραστάσεων word2vec</b></font>"
   ]
  },
  {
   "cell_type": "markdown",
   "metadata": {},
   "source": [
    "__α)__ Διαβάζουμε το κείμενο μας σε μια λίστα από tokenized προτάσεις αξιοποιώντας την συνάρτηση __tokenize__ του Βήματος 2γ:"
   ]
  },
  {
   "cell_type": "code",
   "execution_count": 33,
   "metadata": {},
   "outputs": [],
   "source": [
    "import re\n",
    "file = open(\"Sherlock.txt\", \"r\")\n",
    "text = file.read()\n",
    "token_text = []\n",
    "sentences = re.split(r'(?<!\\w\\.\\w.)(?<![A-Z][a-z]\\.)(?<=\\.|\\?)\\s', text)\n",
    "for stuff in sentences:\n",
    "    token_set = tokenize(stuff)\n",
    "    token_text.append(token_set)"
   ]
  },
  {
   "cell_type": "markdown",
   "metadata": {},
   "source": [
    "__β)__ Χρησιμοποιούμε τώρα την κλάση __Word2Vec__ του __gensim__ για να εκπαιδεύσουμε 100 διάστατα __word2vec embeddings__ με βάση τις προτάσεις του προηγούμενου βήματος. Χρησιμοποιούμε __window=5__ και __1000 εποχές__:"
   ]
  },
  {
   "cell_type": "code",
   "execution_count": 34,
   "metadata": {},
   "outputs": [],
   "source": [
    "from gensim.models import Word2Vec\n",
    "\n",
    "# Initialize word2vec. Context is taken as the 2 previous and 2 next words\n",
    "model = Word2Vec(token_text, window=5, size=100, workers=4)\n",
    "model.train(token_text, total_examples=len(sentences), epochs=1000)\n",
    "\n",
    "# get ordered vocabulary list\n",
    "voc = model.wv.index2word\n",
    "\n",
    "# get vector size\n",
    "dim = model.vector_size\n",
    "\n",
    "# Convert to numpy 2d array (n_vocab x vector_size)\n",
    "def to_embeddings_Matrix(model):  \n",
    "    embedding_matrix = np.zeros((len(model.wv.vocab), model.vector_size))\n",
    "    word2idx = {}\n",
    "    for i in range(len(model.wv.vocab)):\n",
    "        embedding_matrix[i] = model.wv[model.wv.index2word[i]]\n",
    "        word2idx[model.wv.index2word[i]] = i\n",
    "    return embedding_matrix, model.wv.index2word, word2idx"
   ]
  },
  {
   "cell_type": "markdown",
   "metadata": {},
   "source": [
    "__γ)__ Επιλέγουμε τώρα __10 τυχαίες λέξεις__ από το λεξικό και βρίσκουμε τις __σημασιολογικά κοντινότερες__ τους."
   ]
  },
  {
   "cell_type": "code",
   "execution_count": 35,
   "metadata": {},
   "outputs": [
    {
     "name": "stdout",
     "output_type": "stream",
     "text": [
      "\"single\" is similar with the words: \n",
      "\n",
      "\"person\" with similarity 0.3542402386665344\n",
      "\"five\" with similarity 0.3293537497520447\n",
      "\"circle\" with similarity 0.3051678538322449\n",
      "\"judgement\" with similarity 0.28586500883102417\n",
      "\"compliance\" with similarity 0.282204806804657\n",
      "\n",
      "\n",
      "\"interest\" is similar with the words: \n",
      "\n",
      "\"attachment\" with similarity 0.3659813404083252\n",
      "\"regard\" with similarity 0.3198632001876831\n",
      "\"doubted\" with similarity 0.30777621269226074\n",
      "\"apology\" with similarity 0.303871214389801\n",
      "\"estate\" with similarity 0.30266255140304565\n",
      "\n",
      "\n",
      "\"understood\" is similar with the words: \n",
      "\n",
      "\"imagined\" with similarity 0.3520849347114563\n",
      "\"met\" with similarity 0.3151324987411499\n",
      "\"pursuit\" with similarity 0.3125123381614685\n",
      "\"taken\" with similarity 0.30849578976631165\n",
      "\"believing\" with similarity 0.2941681444644928\n",
      "\n",
      "\n",
      "\"common\" is similar with the words: \n",
      "\n",
      "\"means\" with similarity 0.3820534944534302\n",
      "\"established\" with similarity 0.35958969593048096\n",
      "\"pleasing\" with similarity 0.3362693786621094\n",
      "\"patience\" with similarity 0.3165087103843689\n",
      "\"ill\" with similarity 0.30152422189712524\n",
      "\n",
      "\n",
      "\"intimacy\" is similar with the words: \n",
      "\n",
      "\"introduction\" with similarity 0.3354964256286621\n",
      "\"command\" with similarity 0.31162968277931213\n",
      "\"complexion\" with similarity 0.31131404638290405\n",
      "\"affair\" with similarity 0.29491615295410156\n",
      "\"comply\" with similarity 0.28820186853408813\n",
      "\n",
      "\n",
      "\"forgotten\" is similar with the words: \n",
      "\n",
      "\"objections\" with similarity 0.3615610599517822\n",
      "\"declared\" with similarity 0.3307018280029297\n",
      "\"indebted\" with similarity 0.32124263048171997\n",
      "\"partiality\" with similarity 0.3178294599056244\n",
      "\"seen\" with similarity 0.2991540729999542\n",
      "\n",
      "\n",
      "\"choice\" is similar with the words: \n",
      "\n",
      "\"secure\" with similarity 0.2955246567726135\n",
      "\"interference\" with similarity 0.2954934239387512\n",
      "\"estate\" with similarity 0.29396629333496094\n",
      "\"dancing\" with similarity 0.2858600318431854\n",
      "\"thousand\" with similarity 0.2816413938999176\n",
      "\n",
      "\n",
      "\"wanting\" is similar with the words: \n",
      "\n",
      "\"charles\" with similarity 0.3142451047897339\n",
      "\"telling\" with similarity 0.31340739130973816\n",
      "\"matter\" with similarity 0.3085719347000122\n",
      "\"across\" with similarity 0.2949579954147339\n",
      "\"others\" with similarity 0.2899421155452728\n",
      "\n",
      "\n",
      "\"copy\" is similar with the words: \n",
      "\n",
      "\"refund\" with similarity 0.48998600244522095\n",
      "\"distribute\" with similarity 0.4458225965499878\n",
      "\"replacement\" with similarity 0.4393843412399292\n",
      "\"copyright\" with similarity 0.4107860326766968\n",
      "\"fee\" with similarity 0.3895546793937683\n",
      "\n",
      "\n",
      "\"distance\" is similar with the words: \n",
      "\n",
      "\"perverseness\" with similarity 0.3245392441749573\n",
      "\"mile\" with similarity 0.3105115294456482\n",
      "\"desirable\" with similarity 0.30393552780151367\n",
      "\"mistress\" with similarity 0.3029026687145233\n",
      "\"clergyman\" with similarity 0.2997252643108368\n",
      "\n",
      "\n"
     ]
    }
   ],
   "source": [
    "import random\n",
    "\n",
    "random_words = random.sample(voc, 10)\n",
    "for word in random_words:\n",
    "    # get most similar words\n",
    "    sim = model.wv.most_similar(word, topn=5)\n",
    "    print('\"' + word + '\"' + \" is similar with the words:\" , '\\n')\n",
    "    for s in sim:\n",
    "        print('\"' + s[0] + '\"' + \" with similarity \" + str(s[1]))\n",
    "    print('\\n')"
   ]
  },
  {
   "cell_type": "markdown",
   "metadata": {},
   "source": [
    "Θα δοκιμάσουμε να **αυξήσουμε το μέγεθους του παραθύρου μας (__window__) από 5 σε 10** διατηρώντας σταθερές τις υπόλοιπες παραμέτρους του μοντέλους μας:"
   ]
  },
  {
   "cell_type": "code",
   "execution_count": 36,
   "metadata": {},
   "outputs": [],
   "source": [
    "# Initialize word2vec. Context is taken as the 2 previous and 2 next words\n",
    "model = Word2Vec(token_text, window=10, size=100, workers=4)\n",
    "model.train(token_text, total_examples=len(sentences), epochs=1000)\n",
    "\n",
    "# get ordered vocabulary list\n",
    "voc = model.wv.index2word\n",
    "\n",
    "# get vector size\n",
    "dim = model.vector_size\n",
    "\n",
    "# Convert to numpy 2d array (n_vocab x vector_size)\n",
    "def to_embeddings_Matrix(model):  \n",
    "    embedding_matrix = np.zeros((len(model.wv.vocab), model.vector_size))\n",
    "    word2idx = {}\n",
    "    for i in range(len(model.wv.vocab)):\n",
    "        embedding_matrix[i] = model.wv[model.wv.index2word[i]]\n",
    "        word2idx[model.wv.index2word[i]] = i\n",
    "    return embedding_matrix, model.wv.index2word, word2idx"
   ]
  },
  {
   "cell_type": "code",
   "execution_count": 37,
   "metadata": {},
   "outputs": [
    {
     "name": "stdout",
     "output_type": "stream",
     "text": [
      "\"whenever\" is similar with the words: \n",
      "\n",
      "\"opposed\" with similarity 0.33639392256736755\n",
      "\"earnestly\" with similarity 0.3051663041114807\n",
      "\"renewal\" with similarity 0.28818321228027344\n",
      "\"while\" with similarity 0.2823289632797241\n",
      "\"illnatured\" with similarity 0.2818734049797058\n",
      "\n",
      "\n",
      "\"fish\" is similar with the words: \n",
      "\n",
      "\"encouraged\" with similarity 0.3818278908729553\n",
      "\"employed\" with similarity 0.38039323687553406\n",
      "\"glance\" with similarity 0.3610374331474304\n",
      "\"listened\" with similarity 0.3359943628311157\n",
      "\"forth\" with similarity 0.33329063653945923\n",
      "\n",
      "\n",
      "\"ebook\" is similar with the words: \n",
      "\n",
      "\"gutenberg\" with similarity 0.45705646276474\n",
      "\"volunteers\" with similarity 0.44819483160972595\n",
      "\"associated\" with similarity 0.4477381408214569\n",
      "\"prejudice\" with similarity 0.3993482291698456\n",
      "\"trademark\" with similarity 0.3922994136810303\n",
      "\n",
      "\n",
      "\"engage\" is similar with the words: \n",
      "\n",
      "\"figure\" with similarity 0.3252038359642029\n",
      "\"only\" with similarity 0.2965087592601776\n",
      "\"anxiety\" with similarity 0.28550803661346436\n",
      "\"neighbourhood\" with similarity 0.2796492576599121\n",
      "\"looked\" with similarity 0.27707669138908386\n",
      "\n",
      "\n",
      "\"grateful\" is similar with the words: \n",
      "\n",
      "\"reserved\" with similarity 0.36661484837532043\n",
      "\"civil\" with similarity 0.3627414107322693\n",
      "\"dwelt\" with similarity 0.3513803482055664\n",
      "\"sacrifice\" with similarity 0.2949836254119873\n",
      "\"appearing\" with similarity 0.29213106632232666\n",
      "\n",
      "\n",
      "\"country\" is similar with the words: \n",
      "\n",
      "\"chaise\" with similarity 0.3359850347042084\n",
      "\"house\" with similarity 0.29365402460098267\n",
      "\"inn\" with similarity 0.28847306966781616\n",
      "\"vestibule\" with similarity 0.2829187214374542\n",
      "\"distribution\" with similarity 0.27842772006988525\n",
      "\n",
      "\n",
      "\"cried\" is similar with the words: \n",
      "\n",
      "\"replied\" with similarity 0.4999128580093384\n",
      "\"said\" with similarity 0.44335058331489563\n",
      "\"observed\" with similarity 0.31696438789367676\n",
      "\"uncommonly\" with similarity 0.28508493304252625\n",
      "\"suppose\" with similarity 0.28005120158195496\n",
      "\n",
      "\n",
      "\"morning\" is similar with the words: \n",
      "\n",
      "\"day\" with similarity 0.4271564483642578\n",
      "\"impatience\" with similarity 0.33083289861679077\n",
      "\"note\" with similarity 0.32435137033462524\n",
      "\"gracechurch\" with similarity 0.2990001440048218\n",
      "\"clear\" with similarity 0.29749393463134766\n",
      "\n",
      "\n",
      "\"within\" is similar with the words: \n",
      "\n",
      "\"collection\" with similarity 0.3239405155181885\n",
      "\"wife\" with similarity 0.3008083403110504\n",
      "\"side\" with similarity 0.2842588424682617\n",
      "\"recent\" with similarity 0.26838186383247375\n",
      "\"after\" with similarity 0.26623648405075073\n",
      "\n",
      "\n",
      "\"exercise\" is similar with the words: \n",
      "\n",
      "\"restraint\" with similarity 0.3859321177005768\n",
      "\"chief\" with similarity 0.3095804750919342\n",
      "\"agree\" with similarity 0.309115469455719\n",
      "\"features\" with similarity 0.3064965605735779\n",
      "\"next\" with similarity 0.29890620708465576\n",
      "\n",
      "\n"
     ]
    }
   ],
   "source": [
    "random_words = random.sample(voc, 10)\n",
    "for word in random_words:\n",
    "    # get most similar words\n",
    "    sim = model.wv.most_similar(word, topn=5)\n",
    "    print('\"' + word + '\"' + \" is similar with the words:\" , '\\n')\n",
    "    for s in sim:\n",
    "        print('\"' + s[0] + '\"' + \" with similarity \" + str(s[1]))\n",
    "    print('\\n')"
   ]
  },
  {
   "cell_type": "markdown",
   "metadata": {},
   "source": [
    "Τέλος θα επιχειρήσουμε να __αυξήσουμε τον αριθμό των εποχών από 1000 σε 2000__ διατηρώντας τις άλλες παραμέτρους του μοντέλου μας σταθερές:"
   ]
  },
  {
   "cell_type": "code",
   "execution_count": 40,
   "metadata": {},
   "outputs": [],
   "source": [
    "# Initialize word2vec. Context is taken as the 2 previous and 2 next words\n",
    "model = Word2Vec(token_text, window=5, size=100, workers=4)\n",
    "model.train(token_text, total_examples=len(sentences), epochs=2000)\n",
    "\n",
    "# get ordered vocabulary list\n",
    "voc = model.wv.index2word\n",
    "\n",
    "# get vector size\n",
    "dim = model.vector_size\n",
    "\n",
    "# Convert to numpy 2d array (n_vocab x vector_size)\n",
    "def to_embeddings_Matrix(model):  \n",
    "    embedding_matrix = np.zeros((len(model.wv.vocab), model.vector_size))\n",
    "    word2idx = {}\n",
    "    for i in range(len(model.wv.vocab)):\n",
    "        embedding_matrix[i] = model.wv[model.wv.index2word[i]]\n",
    "        word2idx[model.wv.index2word[i]] = i\n",
    "    return embedding_matrix, model.wv.index2word, word2idx"
   ]
  },
  {
   "cell_type": "code",
   "execution_count": 41,
   "metadata": {},
   "outputs": [
    {
     "name": "stdout",
     "output_type": "stream",
     "text": [
      "\"relate\" is similar with the words: \n",
      "\n",
      "\"expressions\" with similarity 0.31301313638687134\n",
      "\"girls\" with similarity 0.3095356225967407\n",
      "\"limited\" with similarity 0.3074137568473816\n",
      "\"opening\" with similarity 0.3072994649410248\n",
      "\"enjoy\" with similarity 0.30592089891433716\n",
      "\n",
      "\n",
      "\"solemnity\" is similar with the words: \n",
      "\n",
      "\"gentle\" with similarity 0.35590028762817383\n",
      "\"gentlemanlike\" with similarity 0.3285735249519348\n",
      "\"spirit\" with similarity 0.31079673767089844\n",
      "\"nature\" with similarity 0.3070175051689148\n",
      "\"days\" with similarity 0.29873329401016235\n",
      "\n",
      "\n",
      "\"entered\" is similar with the words: \n",
      "\n",
      "\"reached\" with similarity 0.450188010931015\n",
      "\"saw\" with similarity 0.4118556082248688\n",
      "\"came\" with similarity 0.38082897663116455\n",
      "\"quitted\" with similarity 0.36568719148635864\n",
      "\"walked\" with similarity 0.36451900005340576\n",
      "\n",
      "\n",
      "\"kitty\" is similar with the words: \n",
      "\n",
      "\"wild\" with similarity 0.34754812717437744\n",
      "\"folly\" with similarity 0.3111843168735504\n",
      "\"money\" with similarity 0.3075936734676361\n",
      "\"right\" with similarity 0.27306345105171204\n",
      "\"colonel\" with similarity 0.26606422662734985\n",
      "\n",
      "\n",
      "\"contained\" is similar with the words: \n",
      "\n",
      "\"habit\" with similarity 0.33023133873939514\n",
      "\"proposed\" with similarity 0.32688844203948975\n",
      "\"alteration\" with similarity 0.31369227170944214\n",
      "\"taste\" with similarity 0.3109763264656067\n",
      "\"recommend\" with similarity 0.30972355604171753\n",
      "\n",
      "\n",
      "\"upon\" is similar with the words: \n",
      "\n",
      "\"on\" with similarity 0.32691556215286255\n",
      "\"dear\" with similarity 0.32045620679855347\n",
      "\"abhorrence\" with similarity 0.271694153547287\n",
      "\"happily\" with similarity 0.2697296142578125\n",
      "\"glad\" with similarity 0.2579076290130615\n",
      "\n",
      "\n",
      "\"further\" is similar with the words: \n",
      "\n",
      "\"compliment\" with similarity 0.45777255296707153\n",
      "\"knowing\" with similarity 0.3157845735549927\n",
      "\"earliest\" with similarity 0.31168612837791443\n",
      "\"conscience\" with similarity 0.3053635358810425\n",
      "\"add\" with similarity 0.3027779161930084\n",
      "\n",
      "\n",
      "\"raised\" is similar with the words: \n",
      "\n",
      "\"ladyship\" with similarity 0.3496595621109009\n",
      "\"inform\" with similarity 0.3134258985519409\n",
      "\"excited\" with similarity 0.3031429350376129\n",
      "\"spare\" with similarity 0.2939144968986511\n",
      "\"drawn\" with similarity 0.28913867473602295\n",
      "\n",
      "\n",
      "\"alarming\" is similar with the words: \n",
      "\n",
      "\"unexpected\" with similarity 0.3557524085044861\n",
      "\"human\" with similarity 0.35333511233329773\n",
      "\"independence\" with similarity 0.3267539143562317\n",
      "\"hurried\" with similarity 0.292435884475708\n",
      "\"claim\" with similarity 0.29074394702911377\n",
      "\n",
      "\n",
      "\"addressed\" is similar with the words: \n",
      "\n",
      "\"dead\" with similarity 0.38955819606781006\n",
      "\"dare\" with similarity 0.3152448832988739\n",
      "\"observed\" with similarity 0.3101505637168884\n",
      "\"impertinent\" with similarity 0.3021901547908783\n",
      "\"nay\" with similarity 0.2906147241592407\n",
      "\n",
      "\n"
     ]
    }
   ],
   "source": [
    "random_words = random.sample(voc, 10)\n",
    "for word in random_words:\n",
    "    # get most similar words\n",
    "    sim = model.wv.most_similar(word, topn=5)\n",
    "    print('\"' + word + '\"' + \" is similar with the words:\" , '\\n')\n",
    "    for s in sim:\n",
    "        print('\"' + s[0] + '\"' + \" with similarity \" + str(s[1]))\n",
    "    print('\\n')"
   ]
  },
  {
   "cell_type": "markdown",
   "metadata": {},
   "source": [
    "__Παρατηρήσεις__: \n",
    "\n",
    "Παρατηρούμε ότι τα αποτελέσματα δεν είναι τόσο ποιοτικά όσο περιμέναμε. Αυξάνοντας το μέγεθος του παραθύρου (window) ή τον αριθμό των εποχών (epochs) βλέπουμε ότι αυτά βελτιώνονται λίγο μιας και εκπαιδεύουμε καλύτερα το μοντέλος μας, ωστόσο πάλι δεν είναι ιδιαίτερα ποιοτικά. Αξίζει να σημειωθεί ότι δεν μπορούμε να αυξήσουμε πάρα πολύ το μέγεθος του παραθύρου μας καθώς σε αυτή την περίπτωση ενδέχεται να βγούμε έξω από τα συντακτικά/σημασιολογικά όρια μιας λέξης και να έχουμε ανεπιθύμητα αποτελέσματα. Αντίθετα, μπορούμε να αυξήσουμε χωρίς κάποιο περιορισμό των αριθμό των εποχών ώστε να λάβουμε καλύτερα αποτελέσματα. Αυτό ωστό θα αυξήσει σημαντικά το χρόνο εκπαίδευσης του μοντέλου μας. Για να μπορούσαμε να λάβουμε αρκετά πιο ποιοτικά αποτελέσματα θα έπρεπε να έχουμε και ένα μεγαλύτερο corpus στην διάθεση μας."
   ]
  },
  {
   "cell_type": "code",
   "execution_count": null,
   "metadata": {},
   "outputs": [],
   "source": []
  }
 ],
 "metadata": {
  "kernelspec": {
   "display_name": "Python 3",
   "language": "python",
   "name": "python3"
  },
  "language_info": {
   "codemirror_mode": {
    "name": "ipython",
    "version": 3
   },
   "file_extension": ".py",
   "mimetype": "text/x-python",
   "name": "python",
   "nbconvert_exporter": "python",
   "pygments_lexer": "ipython3",
   "version": "3.7.4"
  }
 },
 "nbformat": 4,
 "nbformat_minor": 2
}
